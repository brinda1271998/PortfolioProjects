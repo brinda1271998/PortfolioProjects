{
 "cells": [
  {
   "cell_type": "code",
   "execution_count": 48,
   "id": "435861fd",
   "metadata": {},
   "outputs": [],
   "source": [
    "import os, shutil"
   ]
  },
  {
   "cell_type": "code",
   "execution_count": 49,
   "id": "c0847654",
   "metadata": {},
   "outputs": [],
   "source": [
    "path = r\"C:/Users/DELL/Desktop/Demo/\""
   ]
  },
  {
   "cell_type": "code",
   "execution_count": 50,
   "id": "f1b26083",
   "metadata": {},
   "outputs": [],
   "source": [
    "file_name = os.listdir(path)"
   ]
  },
  {
   "cell_type": "code",
   "execution_count": 54,
   "id": "91171aff",
   "metadata": {},
   "outputs": [
    {
     "name": "stdout",
     "output_type": "stream",
     "text": [
      "There are no more files to move\n"
     ]
    }
   ],
   "source": [
    "folder_names = ['csv files','image files']\n",
    "\n",
    "for name in folder_names:\n",
    "    #if not os.path.isdir(path + name):\n",
    "        os.mkdir(path + name)\n",
    "for file in file_name:\n",
    "    if \".csv\" in file and not (os.path.exists(path + \"csv files/\" + file)):\n",
    "        shutil.move(path + file,path + \"csv files/\" +file)\n",
    "    if \".jpg\" in file and not (os.path.exists(path + \"image files/\" + file)):\n",
    "        shutil.move(path + file,path + \"image files/\" +file)\n",
    "    else:\n",
    "        print(\"There are no more files to move\")"
   ]
  },
  {
   "cell_type": "code",
   "execution_count": 53,
   "id": "9ceaad7e",
   "metadata": {},
   "outputs": [
    {
     "name": "stdout",
     "output_type": "stream",
     "text": [
      "There are no more files to move\n",
      "There are no more files to move\n",
      "There are no more files to move\n"
     ]
    }
   ],
   "source": []
  },
  {
   "cell_type": "code",
   "execution_count": null,
   "id": "c2bfaae4",
   "metadata": {},
   "outputs": [],
   "source": []
  }
 ],
 "metadata": {
  "kernelspec": {
   "display_name": "Python 3 (ipykernel)",
   "language": "python",
   "name": "python3"
  },
  "language_info": {
   "codemirror_mode": {
    "name": "ipython",
    "version": 3
   },
   "file_extension": ".py",
   "mimetype": "text/x-python",
   "name": "python",
   "nbconvert_exporter": "python",
   "pygments_lexer": "ipython3",
   "version": "3.11.5"
  }
 },
 "nbformat": 4,
 "nbformat_minor": 5
}
